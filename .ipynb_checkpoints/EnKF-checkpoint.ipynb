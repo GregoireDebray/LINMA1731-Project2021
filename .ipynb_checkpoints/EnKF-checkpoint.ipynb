{
 "cells": [
  {
   "cell_type": "markdown",
   "metadata": {},
   "source": [
    "Import of the differents libraries needed"
   ]
  },
  {
   "cell_type": "code",
   "execution_count": 1,
   "metadata": {},
   "outputs": [],
   "source": [
    "import numpy as np\n",
    "import matplotlib.pyplot as plt"
   ]
  },
  {
   "cell_type": "markdown",
   "metadata": {},
   "source": [
    "Declaration of the linear model"
   ]
  },
  {
   "cell_type": "code",
   "execution_count": 2,
   "metadata": {},
   "outputs": [],
   "source": [
    "A = np.array([[0.9512, 0],[0.0476, 0.9512]])\n",
    "B = np.array([0.0975, 0.0024])\n",
    "C = np.array([0,1])\n",
    "G = 1"
   ]
  },
  {
   "cell_type": "markdown",
   "metadata": {},
   "source": [
    "Import of the data"
   ]
  },
  {
   "cell_type": "code",
   "execution_count": 3,
   "metadata": {},
   "outputs": [],
   "source": [
    "with open('Data_linear_case/True_state_x1_linear_case.txt', \"r\") as f:\n",
    "    f.readline()\n",
    "    True_state_x1 = np.array(list(float(f.readline().split(\" \")[0]) for i in range(1000)))        \n",
    "with open('Data_linear_case/True_state_x2_linear_case.txt', \"r\") as f:\n",
    "    f.readline()\n",
    "    True_state_x2 = np.array(list(float(f.readline().split(\" \")[0]) for i in range(1000)))   \n",
    "with open('Data_linear_case/Input_linear_case.txt', \"r\") as f:\n",
    "    f.readline()\n",
    "    u = np.array(list(float(f.readline().split(\" \")[0]) for i in range(1000)))  \n",
    "with open('Data_linear_case/Measured_output_linear_case.txt', \"r\") as f:\n",
    "    f.readline()\n",
    "    y = np.array(list(float(f.readline().split(\" \")[0]) for i in range(1000)))   "
   ]
  },
  {
   "cell_type": "markdown",
   "metadata": {},
   "source": [
    "Defining noises w(k) and v(k)"
   ]
  },
  {
   "cell_type": "code",
   "execution_count": 4,
   "metadata": {},
   "outputs": [],
   "source": [
    "mu_w = np.array([0,0])\n",
    "Q = 0.001*np.array([[9.506,0.234],[0.234,9.512]])\n",
    "w = np.random.multivariate_normal(mu_w, Q, 1000)\n",
    "mu_v = 0\n",
    "R = 0.0125\n",
    "v = np.random.normal(mu_v, R, 1000)"
   ]
  }
 ],
 "metadata": {
  "kernelspec": {
   "display_name": "Python 3",
   "language": "python",
   "name": "python3"
  },
  "language_info": {
   "codemirror_mode": {
    "name": "ipython",
    "version": 3
   },
   "file_extension": ".py",
   "mimetype": "text/x-python",
   "name": "python",
   "nbconvert_exporter": "python",
   "pygments_lexer": "ipython3",
   "version": "3.8.3"
  }
 },
 "nbformat": 4,
 "nbformat_minor": 4
}
