{
 "cells": [
  {
   "cell_type": "markdown",
   "metadata": {},
   "source": [
    "Import of the differents libraries needed"
   ]
  },
  {
   "cell_type": "code",
   "execution_count": 55,
   "metadata": {},
   "outputs": [],
   "source": [
    "import numpy as np\n",
    "import matplotlib.pyplot as plt"
   ]
  },
  {
   "cell_type": "markdown",
   "metadata": {},
   "source": [
    "Declaration of the state equation parameters and the non linear "
   ]
  },
  {
   "cell_type": "code",
   "execution_count": 56,
   "metadata": {},
   "outputs": [],
   "source": [
    "B = np.array([0.0975, 0.0024])\n",
    "C = np.array([0,1])\n",
    "G = 1\n",
    "h = .1\n",
    "\n",
    "alpha1 = 1; alpha2 = 1; beta = 1\n",
    "def RK4(x,u):\n",
    "    if x[0]<0:\n",
    "        x[0] = 0\n",
    "    if x[1]<0:\n",
    "        x[1] = 0\n",
    "    return np.array([-alpha1*np.sqrt(x[0]) + beta*u,\n",
    "                    alpha1*np.sqrt(x[0]) - beta*np.sqrt(x[1])])"
   ]
  },
  {
   "cell_type": "markdown",
   "metadata": {},
   "source": [
    "Import of the data"
   ]
  },
  {
   "cell_type": "code",
   "execution_count": 57,
   "metadata": {},
   "outputs": [
    {
     "ename": "FileNotFoundError",
     "evalue": "[Errno 2] No such file or directory: 'Data_nonlinear_case/True_state_x1_nonlinear_case.txt'",
     "output_type": "error",
     "traceback": [
      "\u001b[0;31m---------------------------------------------------------------------------\u001b[0m",
      "\u001b[0;31mFileNotFoundError\u001b[0m                         Traceback (most recent call last)",
      "\u001b[0;32m<ipython-input-57-96ac70de398c>\u001b[0m in \u001b[0;36m<module>\u001b[0;34m\u001b[0m\n\u001b[0;32m----> 1\u001b[0;31m \u001b[0;32mwith\u001b[0m \u001b[0mopen\u001b[0m\u001b[0;34m(\u001b[0m\u001b[0;34m'Data_nonlinear_case/True_state_x1_nonlinear_case.txt'\u001b[0m\u001b[0;34m,\u001b[0m \u001b[0;34m\"r\"\u001b[0m\u001b[0;34m)\u001b[0m \u001b[0;32mas\u001b[0m \u001b[0mf\u001b[0m\u001b[0;34m:\u001b[0m\u001b[0;34m\u001b[0m\u001b[0;34m\u001b[0m\u001b[0m\n\u001b[0m\u001b[1;32m      2\u001b[0m     \u001b[0mf\u001b[0m\u001b[0;34m.\u001b[0m\u001b[0mreadline\u001b[0m\u001b[0;34m(\u001b[0m\u001b[0;34m)\u001b[0m\u001b[0;34m\u001b[0m\u001b[0;34m\u001b[0m\u001b[0m\n\u001b[1;32m      3\u001b[0m     \u001b[0mTrue_state_x1\u001b[0m \u001b[0;34m=\u001b[0m \u001b[0mnp\u001b[0m\u001b[0;34m.\u001b[0m\u001b[0marray\u001b[0m\u001b[0;34m(\u001b[0m\u001b[0mlist\u001b[0m\u001b[0;34m(\u001b[0m\u001b[0mfloat\u001b[0m\u001b[0;34m(\u001b[0m\u001b[0mf\u001b[0m\u001b[0;34m.\u001b[0m\u001b[0mreadline\u001b[0m\u001b[0;34m(\u001b[0m\u001b[0;34m)\u001b[0m\u001b[0;34m.\u001b[0m\u001b[0msplit\u001b[0m\u001b[0;34m(\u001b[0m\u001b[0;34m\" \"\u001b[0m\u001b[0;34m)\u001b[0m\u001b[0;34m[\u001b[0m\u001b[0;36m0\u001b[0m\u001b[0;34m]\u001b[0m\u001b[0;34m)\u001b[0m \u001b[0;32mfor\u001b[0m \u001b[0mi\u001b[0m \u001b[0;32min\u001b[0m \u001b[0mrange\u001b[0m\u001b[0;34m(\u001b[0m\u001b[0;36m1000\u001b[0m\u001b[0;34m)\u001b[0m\u001b[0;34m)\u001b[0m\u001b[0;34m)\u001b[0m\u001b[0;34m\u001b[0m\u001b[0;34m\u001b[0m\u001b[0m\n\u001b[1;32m      4\u001b[0m \u001b[0;32mwith\u001b[0m \u001b[0mopen\u001b[0m\u001b[0;34m(\u001b[0m\u001b[0;34m'Data_nonlinear_case/True_state_x2_nonlinear_case.txt'\u001b[0m\u001b[0;34m,\u001b[0m \u001b[0;34m\"r\"\u001b[0m\u001b[0;34m)\u001b[0m \u001b[0;32mas\u001b[0m \u001b[0mf\u001b[0m\u001b[0;34m:\u001b[0m\u001b[0;34m\u001b[0m\u001b[0;34m\u001b[0m\u001b[0m\n\u001b[1;32m      5\u001b[0m     \u001b[0mf\u001b[0m\u001b[0;34m.\u001b[0m\u001b[0mreadline\u001b[0m\u001b[0;34m(\u001b[0m\u001b[0;34m)\u001b[0m\u001b[0;34m\u001b[0m\u001b[0;34m\u001b[0m\u001b[0m\n",
      "\u001b[0;31mFileNotFoundError\u001b[0m: [Errno 2] No such file or directory: 'Data_nonlinear_case/True_state_x1_nonlinear_case.txt'"
     ]
    }
   ],
   "source": [
    "with open('Data_nonlinear_case/True_state_x1_nonlinear_case.txt', \"r\") as f:\n",
    "    f.readline()\n",
    "    True_state_x1 = np.array(list(float(f.readline().split(\" \")[0]) for i in range(1000)))        \n",
    "with open('Data_nonlinear_case/True_state_x2_nonlinear_case.txt', \"r\") as f:\n",
    "    f.readline()\n",
    "    True_state_x2 = np.array(list(float(f.readline().split(\" \")[0]) for i in range(1000)))   \n",
    "with open('Data_nonlinear_case/Input_nonlinear_case.txt', \"r\") as f:\n",
    "    f.readline()\n",
    "    u = np.array(list(float(f.readline().split(\" \")[0]) for i in range(1000)))  \n",
    "with open('Data_nonlinear_case/Measured_output_nonlinear_case.txt', \"r\") as f:\n",
    "    f.readline()\n",
    "    y = np.array(list(float(f.readline().split(\" \")[0]) for i in range(1000)))   "
   ]
  },
  {
   "cell_type": "markdown",
   "metadata": {},
   "source": [
    "Defining noises w(k) and v(k). We don't compute them because they will change at each iteration."
   ]
  },
  {
   "cell_type": "code",
   "execution_count": null,
   "metadata": {},
   "outputs": [],
   "source": [
    "mu_w = np.array([0,0])\n",
    "Q = 0.001*np.array([[9.506,0.234],[0.234,9.512]])\n",
    "#w = np.random.multivariate_normal(mu_w, Q)\n",
    "mu_v = 0\n",
    "R = 0.0125\n",
    "#v = np.random.normal(mu_v, R, 1000)"
   ]
  },
  {
   "cell_type": "markdown",
   "metadata": {},
   "source": [
    "Defining some vectors"
   ]
  },
  {
   "cell_type": "code",
   "execution_count": null,
   "metadata": {},
   "outputs": [],
   "source": [
    "N = 10 #number of elements in the initial ensemble\n",
    "\n",
    "mu_x_0 = np.array([5,5])\n",
    "P_0 = np.array([[1,0],[0,1]])\n",
    "\n",
    "x_hat = np.zeros((1000,N,2))\n",
    "x_hat[0,:,:] = np.random.multivariate_normal(mu_x_0,P_0,N)\n",
    "\n",
    "y_tilde = np.zeros((1000,N))\n",
    "y_tilde[0,:] = [np.dot(C,x_hat[0,l,:])+np.random.normal(mu_v, R) for l in range(N)]\n",
    "\n",
    "Pk = np.zeros((1000,2,2))\n",
    "Pk[0] = P_0\n",
    "\n",
    "muk = np.zeros((1000,2))\n",
    "muk[0] = mu_x_0"
   ]
  },
  {
   "cell_type": "markdown",
   "metadata": {},
   "source": [
    "Compute of the forecast step, x(k|k-1) and the update step x(k|k)"
   ]
  },
  {
   "cell_type": "code",
   "execution_count": null,
   "metadata": {},
   "outputs": [],
   "source": [
    "for k in range(1,1000):\n",
    "    for i in range(N):\n",
    "        xcurr = x_hat[k-1,i,:]\n",
    "        ucurr = u[k-1]\n",
    "        f1 = RK4(xcurr,ucurr)\n",
    "        f2 = RK4(xcurr+f1*h/2,ucurr)\n",
    "        f3 = RK4(xcurr+f2*h/2,ucurr)\n",
    "        f4 = RK4(xcurr+f3*h, ucurr)\n",
    "        x_hat[k,i,:] = xcurr + (f1+2*f2+2*f3+f4)* h/6 + np.random.multivariate_normal(mu_w, Q)\n",
    "    Pk[k] = np.cov(x_hat[k,:,:].T)\n",
    "    muk[k] = np.mean(x_hat[k], axis=0)"
   ]
  },
  {
   "cell_type": "markdown",
   "metadata": {},
   "source": [
    "Compute the confidence intervals"
   ]
  },
  {
   "cell_type": "code",
   "execution_count": null,
   "metadata": {},
   "outputs": [],
   "source": [
    "upper_x1 = np.array([(1.96 * Pk[w,0,0]**0.5)+muk[w,0] for w in range(1000)])\n",
    "lower_x1 = np.array([-1.96 * Pk[w,0,0]**0.5+muk[w,0] for w in range(1000)])\n",
    "upper_x2 = np.array([1.96 * Pk[w,1,1]**0.5+muk[w,1] for w in range(1000)])\n",
    "lower_x2 = np.array([-1.96 * Pk[w,1,1]**0.5+muk[w,1] for w in range(1000)]) "
   ]
  },
  {
   "cell_type": "markdown",
   "metadata": {},
   "source": [
    "Compute the RMSD function"
   ]
  },
  {
   "cell_type": "code",
   "execution_count": null,
   "metadata": {},
   "outputs": [],
   "source": [
    "def RMSD(x,y):\n",
    "    n = len(x)\n",
    "    v = np.power(x-y,2)\n",
    "    rmsd = np.zeros(n)\n",
    "    for i in range(n):\n",
    "        rmsd[i] = np.sqrt(np.sum(v[:i+1,:]) / (i+1))\n",
    "    return rmsd\n",
    "        \n",
    "rmsd = RMSD(np.array([True_state_x1, True_state_x2]).T,muk)"
   ]
  },
  {
   "cell_type": "markdown",
   "metadata": {},
   "source": [
    "Vartiation of the true state depending on the input"
   ]
  },
  {
   "cell_type": "code",
   "execution_count": null,
   "metadata": {},
   "outputs": [],
   "source": [
    "time = np.linspace(0.1,100,1000)\n",
    "figure1 = plt.figure()\n",
    "ax1 = figure1.add_subplot(1,1,1) #retourne un objet de type Axes\n",
    "ax1.plot(time,y, label= \"Output (y = x2)\" , color='blue')\n",
    "ax1.set_xlabel(\"Time (s)\")\n",
    "ax1.set_ylabel(\"Hight (m)\", color = 'blue')\n",
    "ax1.tick_params(axis='y', labelcolor='blue')\n",
    "ax2 = ax1.twinx()\n",
    "ax2.plot(time,u,label='Motor input (u)', color = 'red')\n",
    "ax2.set_ylabel(\"Voltage (V)\", color = 'red')\n",
    "ax2.tick_params(axis='y', labelcolor='red')\n",
    "ax1.legend()\n",
    "figure1.savefig('Input_and_output.png')\n",
    "#figure1.tight_layout()  # otherwise the right y-label is slightly clipped\n",
    "plt.show()"
   ]
  },
  {
   "cell_type": "markdown",
   "metadata": {},
   "source": [
    "Plot of the states, True values vs Filtered values with the confidence interval"
   ]
  },
  {
   "cell_type": "code",
   "execution_count": null,
   "metadata": {},
   "outputs": [],
   "source": [
    "figure1 = plt.figure()\n",
    "figure2 = plt.figure()\n",
    "figure3 = plt.figure()\n",
    "time = np.linspace(0.1,100,1000)\n",
    "ax1 = figure1.add_subplot(1,1,1) #retourne un objet de type Axes\n",
    "ax1.plot(time,muk[:,0], label= \"mean of the 'i' filtered x1\" , color='blue')\n",
    "ax1.plot(time,True_state_x1, label= \"true x1\" , color='orange')\n",
    "ax1.fill_between(time,upper_x1,lower_x1, color='lightsteelblue')\n",
    "ax2 = figure2.add_subplot(1,1,1) #retourne un objet de type Axes\n",
    "ax2.plot(time,muk[:,1], label= \"mean of the 'i' filtered x2\", color='blue' )\n",
    "ax2.plot(time,True_state_x2, label= \"true x2\" , color='orange')\n",
    "ax2.fill_between(time,upper_x2,lower_x2, color='lightsteelblue')\n",
    "ax3 = figure3.add_subplot(1,1,1) #retourne un objet de type Axes\n",
    "ax3.semilogy(time*10,rmsd, label= \"RMSD\" , color='blue')\n",
    "ax1.legend()\n",
    "ax2.legend()\n",
    "ax3.legend()\n",
    "ax1.set_title(\"State of x1\")\n",
    "ax2.set_title(\"State of x2\")\n",
    "ax3.set_title(\"Root Mean Square Deviation\")\n",
    "ax1.set_xlabel(\"Time (s)\")\n",
    "ax2.set_xlabel(\"Time (s)\")\n",
    "ax3.set_xlabel(\"Number of itaration (k)\")\n",
    "ax1.set_ylabel(\"Height (m)\")\n",
    "ax2.set_ylabel(\"Height (m)\")\n",
    "ax3.set_ylabel(\"Error (m)\")\n",
    "plt.show()\n",
    "figure1.savefig('Statex1_EnKF_%d_lin.png'%(N))\n",
    "figure2.savefig('Statex2_EnKF_%d_lin.png'%(N))\n",
    "figure3.savefig('RMSD_EnKF_%d_lin.png'%(N))"
   ]
  }
 ],
 "metadata": {
  "kernelspec": {
   "display_name": "Python 3",
   "language": "python",
   "name": "python3"
  },
  "language_info": {
   "codemirror_mode": {
    "name": "ipython",
    "version": 3
   },
   "file_extension": ".py",
   "mimetype": "text/x-python",
   "name": "python",
   "nbconvert_exporter": "python",
   "pygments_lexer": "ipython3",
   "version": "3.8.3"
  }
 },
 "nbformat": 4,
 "nbformat_minor": 4
}
